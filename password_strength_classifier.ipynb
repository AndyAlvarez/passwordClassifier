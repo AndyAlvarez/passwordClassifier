{
 "cells": [
  {
   "cell_type": "markdown",
   "metadata": {},
   "source": [
    "### Imports"
   ]
  },
  {
   "cell_type": "code",
   "execution_count": 3,
   "metadata": {},
   "outputs": [],
   "source": [
    "import numpy as np\n",
    "import pandas as pd\n",
    "import seaborn as sns\n",
    "import random\n",
    "import imageio\n",
    "\n",
    "import matplotlib.pyplot as plt\n",
    "%matplotlib inline\n",
    "\n",
    "from sklearn.feature_extraction.text import TfidfVectorizer as tf\n",
    "from sklearn.model_selection import train_test_split\n",
    "from sklearn.metrics import mean_squared_error\n",
    "from sklearn.metrics import classification_report\n",
    "from sklearn.metrics import confusion_matrix\n",
    "from sklearn.neighbors import KNeighborsClassifier as knn\n",
    "from sklearn.tree import DecisionTreeClassifier\n",
    "from sklearn.ensemble import RandomForestClassifier\n",
    "from math import sqrt"
   ]
  },
  {
   "cell_type": "markdown",
   "metadata": {},
   "source": [
    "### Reading Data Set"
   ]
  },
  {
   "cell_type": "code",
   "execution_count": 4,
   "metadata": {},
   "outputs": [
    {
     "name": "stdout",
     "output_type": "stream",
     "text": [
      "(669640, 2)\n"
     ]
    },
    {
     "data": {
      "text/html": [
       "<div>\n",
       "<style scoped>\n",
       "    .dataframe tbody tr th:only-of-type {\n",
       "        vertical-align: middle;\n",
       "    }\n",
       "\n",
       "    .dataframe tbody tr th {\n",
       "        vertical-align: top;\n",
       "    }\n",
       "\n",
       "    .dataframe thead th {\n",
       "        text-align: right;\n",
       "    }\n",
       "</style>\n",
       "<table border=\"1\" class=\"dataframe\">\n",
       "  <thead>\n",
       "    <tr style=\"text-align: right;\">\n",
       "      <th></th>\n",
       "      <th>password</th>\n",
       "      <th>strength</th>\n",
       "    </tr>\n",
       "  </thead>\n",
       "  <tbody>\n",
       "    <tr>\n",
       "      <th>0</th>\n",
       "      <td>kzde5577</td>\n",
       "      <td>1</td>\n",
       "    </tr>\n",
       "    <tr>\n",
       "      <th>1</th>\n",
       "      <td>kino3434</td>\n",
       "      <td>1</td>\n",
       "    </tr>\n",
       "    <tr>\n",
       "      <th>2</th>\n",
       "      <td>visi7k1yr</td>\n",
       "      <td>1</td>\n",
       "    </tr>\n",
       "    <tr>\n",
       "      <th>3</th>\n",
       "      <td>megzy123</td>\n",
       "      <td>1</td>\n",
       "    </tr>\n",
       "    <tr>\n",
       "      <th>4</th>\n",
       "      <td>lamborghin1</td>\n",
       "      <td>1</td>\n",
       "    </tr>\n",
       "  </tbody>\n",
       "</table>\n",
       "</div>"
      ],
      "text/plain": [
       "      password  strength\n",
       "0     kzde5577         1\n",
       "1     kino3434         1\n",
       "2    visi7k1yr         1\n",
       "3     megzy123         1\n",
       "4  lamborghin1         1"
      ]
     },
     "execution_count": 4,
     "metadata": {},
     "output_type": "execute_result"
    }
   ],
   "source": [
    "data = pd.read_csv('data.csv', on_bad_lines = \"skip\")\n",
    "print(data.shape)\n",
    "data.head()"
   ]
  },
  {
   "cell_type": "markdown",
   "metadata": {},
   "source": [
    "### Pre-Processing"
   ]
  },
  {
   "cell_type": "code",
   "execution_count": 5,
   "metadata": {},
   "outputs": [
    {
     "data": {
      "text/plain": [
       "password    0\n",
       "strength    0\n",
       "dtype: int64"
      ]
     },
     "execution_count": 5,
     "metadata": {},
     "output_type": "execute_result"
    }
   ],
   "source": [
    "# Removing missing values\n",
    "data.dropna(inplace = True)\n",
    "\n",
    "#Checking to see if there are any null lines after the removal\n",
    "data.isnull().sum()"
   ]
  },
  {
   "cell_type": "code",
   "execution_count": 6,
   "metadata": {},
   "outputs": [
    {
     "data": {
      "text/plain": [
       "password    669639\n",
       "strength    669639\n",
       "dtype: int64"
      ]
     },
     "execution_count": 6,
     "metadata": {},
     "output_type": "execute_result"
    }
   ],
   "source": [
    "data.count()"
   ]
  },
  {
   "cell_type": "code",
   "execution_count": 7,
   "metadata": {},
   "outputs": [
    {
     "name": "stdout",
     "output_type": "stream",
     "text": [
      "strength\n",
      "2     83137\n",
      "0     89701\n",
      "1    496801\n",
      "Name: count, dtype: int64\n"
     ]
    },
    {
     "data": {
      "image/png": "[encoded data removed]",
      "text/plain": [
       "<Figure size 640x480 with 1 Axes>"
      ]
     },
     "metadata": {},
     "output_type": "display_data"
    }
   ],
   "source": [
    "print(data.strength.value_counts().sort_values(ascending = True))\n",
    "ax = sns.countplot(x=\"strength\", data=data)"
   ]
  },
  {
   "cell_type": "code",
   "execution_count": 8,
   "metadata": {},
   "outputs": [
    {
     "data": {
      "text/plain": [
       "array([['kzde5577', 1],\n",
       "       ['kino3434', 1],\n",
       "       ['visi7k1yr', 1],\n",
       "       ...,\n",
       "       ['184520socram', 1],\n",
       "       ['marken22a', 1],\n",
       "       ['fxx4pw4g', 1]], dtype=object)"
      ]
     },
     "execution_count": 8,
     "metadata": {},
     "output_type": "execute_result"
    }
   ],
   "source": [
    "# Creating Tuples\n",
    "pw_tuple = np.array(data)\n",
    "pw_tuple"
   ]
  },
  {
   "cell_type": "code",
   "execution_count": 9,
   "metadata": {},
   "outputs": [],
   "source": [
    "# Shuffling the Data\n",
    "random.shuffle(pw_tuple)\n",
    "x = [labels[0] for labels in pw_tuple]\n",
    "y = [labels[1] for labels in pw_tuple]"
   ]
  },
  {
   "cell_type": "code",
   "execution_count": 10,
   "metadata": {},
   "outputs": [
    {
     "data": {
      "text/plain": [
       "['k', 'z', 'd', 'e', '5', '5', '7', '7']"
      ]
     },
     "execution_count": 10,
     "metadata": {},
     "output_type": "execute_result"
    }
   ],
   "source": [
    "# Creating Tokenizer Function\n",
    "def tokenizer(password):\n",
    "    character = [] # array that will hold every character of the password\n",
    "    for i in password:\n",
    "        character.append(i)\n",
    "    return character\n",
    "\n",
    "# Checking that the Function works\n",
    "tokenizer('kzde5577')"
   ]
  },
  {
   "cell_type": "code",
   "execution_count": 11,
   "metadata": {},
   "outputs": [
    {
     "name": "stderr",
     "output_type": "stream",
     "text": [
      "c:\\Users\\andyd\\AppData\\Local\\Programs\\Python\\Python311\\Lib\\site-packages\\sklearn\\feature_extraction\\text.py:525: UserWarning: The parameter 'token_pattern' will not be used since 'tokenizer' is not None'\n",
      "  warnings.warn(\n"
     ]
    }
   ],
   "source": [
    "# Vectorizer for ML Algorithms\n",
    "vectorizer = tf(tokenizer = tokenizer) # Term Frequency Inverse Document Frequency (TF-IDF)\n",
    "x = vectorizer.fit_transform(x)"
   ]
  },
  {
   "cell_type": "code",
   "execution_count": 12,
   "metadata": {},
   "outputs": [
    {
     "name": "stdout",
     "output_type": "stream",
     "text": [
      "129\n"
     ]
    },
    {
     "data": {
      "text/plain": [
       "{'k': 61,\n",
       " 'z': 76,\n",
       " 'd': 54,\n",
       " 'e': 55,\n",
       " '5': 34,\n",
       " '7': 36,\n",
       " 'i': 59,\n",
       " 'n': 64,\n",
       " 'o': 65,\n",
       " '3': 32,\n",
       " '4': 33,\n",
       " 'v': 72,\n",
       " 's': 69,\n",
       " '1': 30,\n",
       " 'y': 75,\n",
       " 'r': 68,\n",
       " 'm': 63,\n",
       " 'g': 57,\n",
       " '2': 31,\n",
       " 'u': 71,\n",
       " '6': 35,\n",
       " 'c': 53,\n",
       " '8': 37,\n",
       " 'h': 58,\n",
       " 'w': 73,\n",
       " 'a': 51,\n",
       " '9': 38,\n",
       " '0': 29,\n",
       " 't': 70,\n",
       " 'f': 56,\n",
       " 'l': 62,\n",
       " '@': 44,\n",
       " 'j': 60,\n",
       " '-': 26,\n",
       " 'q': 67,\n",
       " 'p': 66,\n",
       " 'b': 52,\n",
       " '>': 42,\n",
       " 'x': 74,\n",
       " '!': 16,\n",
       " '.': 27,\n",
       " '&': 21,\n",
       " '?': 43,\n",
       " '<': 40,\n",
       " '_': 49,\n",
       " ';': 39,\n",
       " '\"': 17,\n",
       " '~': 80,\n",
       " '+': 25,\n",
       " '^': 48,\n",
       " '/': 28,\n",
       " '$': 19,\n",
       " ')': 23,\n",
       " '%': 20,\n",
       " '(': 22,\n",
       " '±': 90,\n",
       " ' ': 15,\n",
       " '#': 18,\n",
       " '*': 24,\n",
       " '[': 45,\n",
       " ']': 47,\n",
       " 'þ': 126,\n",
       " 'ó': 117,\n",
       " '\\\\': 46,\n",
       " '=': 41,\n",
       " '{': 77,\n",
       " '\\x1c': 13,\n",
       " '}': 79,\n",
       " 'ô': 118,\n",
       " '³': 92,\n",
       " '\\x05': 2,\n",
       " '\\x1b': 12,\n",
       " '\\x19': 11,\n",
       " 'ú': 122,\n",
       " '`': 50,\n",
       " '¿': 100,\n",
       " 'à': 103,\n",
       " '\\x16': 9,\n",
       " 'ò': 116,\n",
       " '·': 95,\n",
       " '\\x1e': 14,\n",
       " 'ß': 102,\n",
       " 'ä': 106,\n",
       " '´': 93,\n",
       " 'ð': 114,\n",
       " '°': 89,\n",
       " '\\x08': 4,\n",
       " 'ê': 111,\n",
       " 'á': 104,\n",
       " '\\x7f': 81,\n",
       " '|': 78,\n",
       " 'å': 107,\n",
       " '‚': 128,\n",
       " 'º': 96,\n",
       " '¡': 84,\n",
       " '\\x10': 6,\n",
       " '\\x17': 10,\n",
       " 'ÿ': 127,\n",
       " 'õ': 119,\n",
       " 'í': 112,\n",
       " '«': 87,\n",
       " 'ý': 125,\n",
       " 'û': 123,\n",
       " '÷': 121,\n",
       " 'â': 105,\n",
       " 'æ': 108,\n",
       " '²': 91,\n",
       " '¾': 99,\n",
       " '\\x12': 8,\n",
       " '×': 101,\n",
       " 'ç': 109,\n",
       " 'ö': 120,\n",
       " 'µ': 94,\n",
       " '¨': 86,\n",
       " 'ñ': 115,\n",
       " '¦': 85,\n",
       " '\\x0f': 5,\n",
       " 'ï': 113,\n",
       " '¼': 98,\n",
       " 'ü': 124,\n",
       " '\\x8d': 83,\n",
       " 'é': 110,\n",
       " '\\x06': 3,\n",
       " '\\x11': 7,\n",
       " '¯': 88,\n",
       " '\\x01': 0,\n",
       " '»': 97,\n",
       " '\\x81': 82,\n",
       " '\\x02': 1}"
      ]
     },
     "execution_count": 12,
     "metadata": {},
     "output_type": "execute_result"
    }
   ],
   "source": [
    "print(len(vectorizer.vocabulary_))\n",
    "vectorizer.vocabulary_"
   ]
  },
  {
   "cell_type": "code",
   "execution_count": 13,
   "metadata": {},
   "outputs": [
    {
     "name": "stdout",
     "output_type": "stream",
     "text": [
      "[array([36, 34, 55, 54, 76, 61]), array([33, 32, 65, 64, 59, 61]), array([33, 32, 65, 64, 59, 61]), array([68, 75, 30, 69, 72, 59, 36, 61]), array([31, 57, 63, 75, 30, 32, 55, 76]), array([68, 75, 30, 69, 72, 59, 36, 61]), array([36, 34, 55, 54, 76, 61]), array([73, 58, 37, 53, 35, 71, 72, 65]), array([73, 58, 37, 53, 35, 71, 72, 65]), array([31, 57, 63, 75, 30, 32, 55, 76]), array([73, 58, 37, 53, 35, 71, 72, 65]), array([38, 51, 35, 31, 30, 69, 32, 34]), array([70, 29, 37, 35, 31, 30, 32, 65, 34, 61]), array([38, 51, 71, 75, 69, 72, 65, 34]), array([68, 75, 30, 69, 72, 59, 36, 61]), array([31, 57, 63, 75, 30, 32, 55, 76]), array([37, 30, 72, 33, 36]), array([70, 29, 37, 35, 31, 30, 32, 65, 34, 61]), array([73, 58, 37, 53, 35, 71, 72, 65]), array([56, 35, 32, 65, 59, 36, 54]), array([26, 60, 44, 62, 70, 51, 53, 75, 30, 69, 64, 59, 34, 55]), array([66, 67, 70, 29, 38, 73, 71, 65, 64, 59, 36, 55, 76, 61]), array([38, 51, 71, 75, 69, 72, 65, 34]), array([60, 38, 58, 53, 71, 31, 65, 36, 54, 76]), array([60, 62, 38, 51, 71, 63, 68, 69, 32, 55]), array([52, 62, 29, 30, 69, 36, 34]), array([66, 62, 29, 38, 37, 35, 32, 36, 34]), array([60, 56, 70, 37, 75, 32, 65, 59, 36, 61]), array([36, 34, 55, 54, 76, 61]), array([29, 38, 51, 37, 35, 30, 33, 32, 34]), array([29, 38, 51, 37, 35, 30, 33, 32, 34]), array([60, 62, 38, 51, 71, 63, 68, 69, 32, 55]), array([29, 38, 37, 35, 57, 36, 34]), array([37, 30, 72, 33, 36]), array([56, 38, 51, 71, 63, 68, 30, 64]), array([29, 38, 51, 37, 35, 30, 33, 32, 34]), array([62, 70, 30, 64, 59, 55]), array([36, 34, 55, 54, 76, 61]), array([52, 62, 29, 30, 69, 36, 34]), array([33, 32, 65, 64, 59, 61]), array([38, 51, 35, 31, 30, 69, 32, 34]), array([26, 62, 70, 51, 58, 68, 69, 32, 64, 59, 55, 61]), array([51, 73, 31, 63, 68, 69, 72, 61]), array([62, 29, 51, 58, 53, 69, 33, 55, 61]), array([56, 51, 58, 31, 30, 32, 54]), array([26, 60, 44, 62, 70, 51, 53, 75, 30, 69, 64, 59, 34, 55]), array([51, 57, 63, 75, 30, 69, 59, 54]), array([52, 66, 51, 68, 30, 69, 65, 64, 59, 55, 61]), array([70, 29, 37, 35, 31, 30, 32, 65, 34, 61]), array([51, 57, 63, 75, 30, 69, 59, 54]), array([52, 66, 67, 58, 37, 71, 63, 75, 72, 64, 59, 55, 54]), array([62, 51, 71, 57, 30, 69, 59]), array([29, 38, 51, 37, 35, 30, 33, 32, 34]), array([60, 56, 70, 37, 75, 32, 65, 59, 36, 61]), array([60, 35, 65, 36, 55, 61]), array([52, 66, 67, 58, 37, 71, 63, 75, 72, 64, 59, 55, 54]), array([29, 51, 35, 31, 30, 32, 34]), array([62, 56, 51, 53, 31, 68, 32, 59, 55]), array([26, 60, 44, 62, 70, 51, 53, 75, 30, 69, 64, 59, 34, 55]), array([53, 31, 57, 30, 32, 59]), array([56, 51, 58, 31, 30, 32, 54]), array([67, 56, 38, 31, 63, 30, 59, 61]), array([42, 52, 65, 54, 61]), array([60, 30, 61]), array([60, 30, 61]), array([74, 56, 70, 29, 51, 37, 63, 65, 59]), array([60, 38, 58, 53, 71, 31, 65, 36, 54, 76]), array([52, 70, 75, 69, 65, 59, 36]), array([52, 62, 51, 58, 57, 63, 68, 30, 65, 64, 59]), array([74, 66, 67, 58, 69, 65, 64, 34, 61]), array([66, 71, 31, 30, 65, 64, 55]), array([60, 62, 38, 51, 71, 63, 68, 69, 32, 55]), array([66, 70, 38, 51, 68, 30, 32, 59, 36]), array([74, 52, 60, 70, 57, 75, 30, 33, 64, 55, 54]), array([67, 29, 63, 69, 64, 36, 61]), array([60, 35, 65, 36, 55, 61]), array([29, 63, 30, 33, 54]), array([29, 51, 37, 31, 34]), array([66, 51, 73, 31, 57, 65, 36, 55, 61]), array([52, 62, 70, 51, 53, 31, 69, 65, 34, 55]), array([62, 30, 69, 54]), array([60, 30, 61]), array([16, 62, 70, 51, 58, 57, 63, 30, 64, 59, 55, 54]), array([38, 51, 35, 31, 30, 69, 32, 34]), array([67, 38, 71, 31, 57, 75, 36]), array([62, 51, 57, 63, 30, 59, 61]), array([37, 35, 71, 31, 57, 30, 69, 32, 36]), array([52, 62, 70, 51, 53, 31, 69, 65, 34, 55]), array([29, 51, 35, 31, 30, 32, 34]), array([60, 62, 38, 51, 71, 63, 68, 69, 32, 55]), array([56, 35, 57, 64, 36, 54]), array([62, 29, 51, 58, 53, 69, 33, 55, 61]), array([52, 62, 29, 37, 57, 68, 72]), array([52, 66, 51, 68, 30, 69, 65, 64, 59, 55, 61]), array([66, 60, 70, 58, 30, 65, 64, 55]), array([70, 51, 35, 71, 57, 63, 64]), array([51, 73, 31, 63, 68, 69, 72, 61]), array([62, 29, 51, 58, 53, 69, 33, 55, 61]), array([52, 70, 75, 69, 65, 59, 36]), array([38, 51, 71, 75, 69, 72, 65, 34]), array([51, 73, 31, 63, 68, 69, 72, 61]), array([62, 70, 30, 64, 59, 55]), array([26, 60, 44, 62, 70, 51, 53, 75, 30, 69, 64, 59, 34, 55]), array([74, 52, 67, 70, 35, 57, 33, 65, 59, 36, 55]), array([62, 30, 69, 54]), array([27, 62, 51, 63, 65, 76]), array([60, 62, 51, 35, 31, 30, 33, 32, 34]), array([70, 38, 37, 35, 31, 75, 34]), array([62, 51, 53, 31, 63, 30, 59, 55, 61]), array([27, 29, 38, 37, 31, 30, 33, 36]), array([26, 62, 70, 51, 58, 68, 69, 32, 64, 59, 55, 61]), array([66, 71, 31, 30, 65, 64, 55]), array([56, 35, 57, 64, 36, 54]), array([74, 52, 29, 35, 31, 65, 59, 76, 61]), array([52, 29, 31, 69, 64, 36]), array([74, 62, 31, 33, 65, 64, 55]), array([58, 57, 75, 65, 59, 36, 34, 54]), array([67, 62, 56, 70, 51, 57, 63, 75, 30, 72, 33, 64, 55, 54, 76]), array([29, 37, 57, 63, 75, 32, 34, 61]), array([52, 29, 33, 65, 59, 55, 76, 61]), array([67, 62, 70, 51, 35, 71, 59, 55]), array([70, 51, 35, 71, 57, 63, 64]), array([51, 53, 63, 68, 30, 69, 65, 59, 55]), array([74, 67, 70, 73, 37, 71, 31, 63, 75, 64, 36, 55]), array([38, 51, 71, 75, 69, 72, 65, 34]), array([70, 29, 37, 35, 31, 30, 32, 65, 34, 61]), array([52, 60, 38, 51, 37, 53, 35, 31, 76, 61]), array([29, 38, 51, 37, 35, 30, 33, 32, 34]), array([37, 35, 71, 31, 57, 30, 69, 32, 36]), array([74, 38, 35, 31, 63, 69, 33, 55, 54]), array([27, 29, 38, 37, 31, 30, 33, 36]), array([16, 62, 70, 51, 58, 57, 63, 30, 64, 59, 55, 54]), array([74, 52, 62, 51, 31, 63, 30, 32]), array([60, 51, 31, 63, 30, 32, 64, 55]), array([56, 35, 32, 65, 59, 36, 54]), array([29, 51, 37, 31, 34]), array([68, 75, 30, 69, 72, 59, 36, 61]), array([60, 29, 38]), array([67, 56, 38, 31, 63, 30, 59, 61]), array([29, 38, 37, 71, 31, 68, 69, 72, 64, 59, 55]), array([63, 65, 64, 36, 55, 61]), array([60, 56, 70, 37, 75, 32, 65, 59, 36, 61]), array([66, 51, 58, 31, 68, 69, 55]), array([67, 62, 56, 70, 51, 57, 63, 75, 30, 72, 33, 64, 55, 54, 76]), array([52, 70, 75, 69, 65, 59, 36]), array([38, 35, 68, 33, 65, 34, 54]), array([66, 62, 70, 51, 68, 30, 69, 65, 55]), array([66, 51, 53, 31, 30, 59]), array([70, 51, 35, 71, 57, 63, 64]), array([36, 34, 55, 54, 76, 61]), array([31, 63, 32]), array([66, 60, 70, 58, 30, 65, 64, 55]), array([60, 38, 58, 53, 71, 31, 65, 36, 54, 76]), array([62, 51, 53, 31, 63, 30, 59, 55, 61]), array([74, 38, 73, 75, 30, 69, 32, 36, 34]), array([38, 51, 35, 31, 30, 69, 32, 34]), array([38, 35, 68, 33, 65, 34, 54]), array([60, 30, 61]), array([66, 51, 53, 31, 30, 59]), array([67, 38, 71, 31, 57, 75, 36]), array([51, 31, 57, 64, 59, 61]), array([63, 65, 64, 36, 55, 61]), array([62, 58, 37, 30, 32, 64, 59]), array([52, 70, 75, 69, 65, 59, 36]), array([37, 35, 71, 31, 57, 30, 69, 32, 36]), array([51, 63, 75, 30, 72, 33, 65, 54]), array([29, 31, 68, 30, 69, 72, 55]), array([66, 29, 31, 30, 69, 65, 64, 59, 55, 54]), array([67, 51, 58, 31, 75]), array([29, 38, 37, 69, 33, 32, 34]), array([40, 43, 21, 27, 42, 52, 29, 58, 37, 31, 63, 68, 30, 32, 64, 36, 55,\n",
      "       61]), array([62, 51, 73, 31, 30, 69, 33, 32, 59]), array([67, 62, 70, 51, 35, 71, 59, 55]), array([67, 60, 62, 70, 51, 73, 53, 71, 31, 75, 65, 59, 36, 34, 55]), array([60, 62, 51, 35, 31, 30, 33, 32, 34]), array([70, 29, 30, 69, 55]), array([67, 38, 71, 31, 57, 75, 36]), array([66, 62, 70, 51, 68, 30, 69, 65, 55]), array([52, 60, 38, 51, 37, 53, 35, 31, 76, 61]), array([70, 29, 37, 71, 31, 75, 30, 32, 34]), array([66, 44, 62, 73, 31, 57, 68, 69, 65, 64, 59, 54]), array([29, 51, 37, 31, 34]), array([29, 38, 71, 68, 75, 30, 59, 34]), array([74, 67, 70, 29, 37, 71, 57, 68, 75, 69, 33, 64, 54]), array([66, 62, 58, 53, 71, 33, 64, 59, 55]), array([52, 51, 31, 68, 32]), array([29, 37, 57, 63, 75, 32, 34, 61]), array([67, 29, 63, 69, 64, 36, 61]), array([29, 38, 73, 35, 31, 33]), array([74, 51, 63, 68, 36, 54, 76]), array([70, 29, 38, 51, 30, 59, 36, 34]), array([66, 29, 31, 30, 69, 65, 64, 59, 55, 54]), array([29, 38, 71, 68, 75, 30, 59, 34]), array([62, 51, 31, 75, 30, 32, 61]), array([67, 62, 70, 29, 73, 31, 57, 75, 72, 65, 36, 54]), array([62, 51, 31, 75, 30, 32, 61]), array([38, 35, 68, 33, 65, 34, 54]), array([29, 58, 37, 31, 57, 68, 75, 65]), array([52, 29, 31, 69, 64, 36]), array([66, 70, 38, 51, 68, 30, 32, 59, 36]), array([52, 70, 75, 69, 65, 59, 36]), array([67, 29, 63, 69, 64, 36, 61]), array([31, 57, 63, 75, 30, 32, 55, 76]), array([70, 29, 31, 30, 32, 64, 59]), array([66, 37, 35, 31, 36, 34]), array([60, 51, 31, 57, 75, 30, 69, 59, 36, 55]), array([60, 29, 38]), array([60, 62, 29, 38, 71, 59, 55]), array([52, 29, 33, 65, 59, 55, 76, 61]), array([52, 66, 67, 58, 37, 71, 63, 75, 72, 64, 59, 55, 54]), array([67, 56, 51, 53, 31, 68, 72, 33, 34, 55]), array([70, 51, 58, 37, 72, 32, 36, 55]), array([70, 31, 30, 32, 64, 55]), array([51, 58, 37, 57, 30, 32, 64, 59, 34, 54]), array([52, 62, 29, 73, 53, 63, 65, 55, 61]), array([36, 34, 55, 54, 76, 61]), array([62, 29, 31, 57, 59]), array([67, 60, 62, 70, 51, 73, 53, 71, 31, 75, 65, 59, 36, 34, 55]), array([52, 51, 53, 71, 68, 33, 32, 65, 55]), array([70, 51, 53, 35, 71, 57, 32, 34]), array([66, 51, 53, 31, 30, 59]), array([74, 67, 70, 29, 37, 71, 57, 68, 75, 69, 33, 64, 54]), array([52, 60, 38, 51, 37, 53, 35, 31, 76, 61]), array([62, 29, 31, 57, 59]), array([29, 63, 30, 65, 64, 55, 54]), array([52, 62, 70, 51, 53, 31, 69, 65, 34, 55]), array([29, 38, 37, 69, 33, 32, 34]), array([38, 31, 57, 68, 64, 59, 36, 55]), array([62, 51, 31, 75, 30, 33, 32, 65, 64, 34, 54]), array([73, 31, 30, 65, 64]), array([62, 51, 53, 31, 63, 30, 59, 55, 61]), array([74, 38, 73, 75, 30, 69, 32, 36, 34]), array([70, 29, 38, 51, 30, 59, 36, 34]), array([38, 35, 68, 33, 65, 34, 54]), array([56, 51, 58, 53, 71, 31, 68, 30, 69, 55, 61]), array([70, 29, 30, 69, 55]), array([52, 62, 51, 58, 57, 63, 68, 30, 65, 64, 59]), array([70, 51, 71, 57, 63, 69, 32, 64, 36]), array([35, 31, 75, 30, 33, 64, 59, 34, 55, 61]), array([70, 51, 53, 35, 71, 57, 32, 34]), array([62, 51, 35, 63, 69, 55]), array([38, 51, 69, 32, 34]), array([29, 37, 57, 63, 75, 32, 34, 61]), array([66, 38, 65, 64, 76, 61]), array([67, 62, 70, 51, 35, 71, 59, 55]), array([73, 31, 32]), array([52, 38, 51, 31, 68, 30, 33, 65, 76]), array([70, 31, 30, 32, 64, 55]), array([74, 52, 67, 56, 51, 53, 63, 72, 65, 36, 54, 76]), array([52, 60, 29, 38, 71, 57, 30, 65, 59]), array([29, 38, 71, 68, 75, 30, 59, 34]), array([67, 29, 51, 58, 71, 31, 59]), array([66, 62, 58, 53, 71, 33, 64, 59, 55]), array([67, 60, 35, 57, 68, 69, 61]), array([66, 70, 38, 51, 68, 30, 32, 59, 36]), array([66, 67, 56, 29, 72, 61]), array([63, 68, 30, 69, 32, 65, 76]), array([70, 31, 30, 33, 32, 65, 64, 59, 55, 76]), array([74, 52, 60, 70, 57, 75, 30, 33, 64, 55, 54]), array([74, 70, 29, 38, 31, 69, 65, 59, 55]), array([60, 38, 58, 53, 71, 31, 65, 36, 54, 76]), array([52, 62, 71, 30, 69, 59, 55, 61]), array([29, 31, 68, 30, 69, 72, 55]), array([33, 32, 65, 64, 59, 61]), array([35, 31, 75, 30, 33, 64, 59, 34, 55, 61]), array([29, 51, 37, 31, 34]), array([29, 38, 37, 71, 31, 68, 69, 72, 64, 59, 55]), array([38, 51, 35, 30, 69, 33, 32, 36, 54]), array([62, 29, 51, 53, 69, 65, 64, 59, 34]), array([52, 51, 31, 68, 32]), array([74, 37, 31, 30, 33, 34]), array([52, 66, 67, 58, 37, 71, 63, 75, 72, 64, 59, 55, 54]), array([52, 66, 70, 29, 51, 71, 30, 69, 65, 34]), array([38, 35, 68, 33, 65, 34, 54]), array([74, 67, 70, 29, 58, 71, 31, 75, 64, 55, 76, 61]), array([62, 56, 51, 53, 31, 68, 32, 59, 55]), array([74, 66, 67, 29, 57, 32, 64, 34, 61]), array([74, 52, 62, 29, 58, 35, 31, 63, 68, 72, 55]), array([73, 31, 57, 75, 33, 55, 76]), array([66, 62, 70, 35, 31, 63, 30, 32, 65, 55]), array([52, 38, 51, 35, 71, 75, 64, 59, 61]), array([62, 29, 71, 75, 72, 59, 55]), array([73, 58, 37, 53, 35, 71, 72, 65]), array([70, 51, 35, 71, 57, 63, 64]), array([52, 53, 64, 59, 36, 55, 61]), array([70, 31, 30, 32, 64, 55]), array([56, 35, 32, 65, 59, 36, 54]), array([62, 70, 51, 35, 71, 57, 65, 55, 54]), array([74, 51, 63, 68, 36, 54, 76]), array([60, 51, 31, 57, 75, 30, 69, 59, 36, 55]), array([62, 29, 71, 75, 72, 59, 55]), array([38, 51, 35, 30, 69, 33, 32, 36, 54]), array([27, 29, 38, 37, 31, 30, 33, 36]), array([56, 51, 31, 30, 69, 33, 32]), array([51, 73, 31, 63, 68, 69, 72, 61]), array([52, 70, 31, 68, 33, 65, 34]), array([67, 62, 70, 29, 73, 31, 57, 75, 72, 65, 36, 54]), array([52, 62, 51, 58, 57, 63, 68, 30, 65, 64, 59]), array([67, 60, 62, 70, 51, 73, 53, 71, 31, 75, 65, 59, 36, 34, 55]), array([74, 52, 29, 35, 31, 65, 59, 76, 61]), array([74, 52, 62, 29, 58, 35, 31, 63, 68, 72, 55]), array([52, 62, 51, 58, 57, 63, 68, 30, 65, 64, 59]), array([66, 31, 75, 30, 32, 59, 55, 61]), array([74, 52, 62, 29, 58, 35, 31, 63, 68, 72, 55]), array([67, 56, 51, 53, 31, 68, 72, 33, 34, 55]), array([38, 31, 75, 30, 33]), array([62, 29, 71, 75, 72, 59, 55]), array([66, 60, 51, 73, 35, 71, 57, 75, 30, 33, 55]), array([66, 51, 58, 31, 68, 69, 55]), array([37, 30, 69, 64, 59, 55, 54]), array([29, 38, 63, 59, 55, 61]), array([74, 52, 26, 56, 73, 58, 37, 53, 63, 32, 36, 61]), array([62, 70, 57, 55, 61]), array([74, 29, 33, 32, 34]), array([51, 31, 57, 64, 59, 61]), array([70, 29, 38, 51, 30, 59, 36, 34]), array([52, 66, 67, 58, 37, 71, 63, 75, 72, 64, 59, 55, 54]), array([29, 38, 51, 37, 35, 30, 33, 32, 34]), array([62, 51, 71, 31, 30, 69, 32, 55]), array([60, 56, 70, 37, 75, 32, 65, 59, 36, 61]), array([70, 29, 58, 35, 30, 64, 55, 61]), array([56, 70, 51, 35, 71, 68, 30, 72, 65, 59, 55]), array([31, 57, 63, 75, 30, 32, 55, 76]), array([51, 53, 63, 68, 30, 69, 65, 59, 55]), array([29, 51, 73, 37, 68, 69, 65, 59]), array([70, 51, 58, 63, 68, 30, 65, 64]), array([62, 70, 30, 64, 59, 55]), array([62, 51, 53, 31, 68, 65, 36, 54]), array([62, 70, 57, 55, 61]), array([51, 63, 30, 72, 32, 65, 59, 34, 61]), array([52, 66, 51, 68, 30, 69, 65, 64, 59, 55, 61]), array([52, 70, 51, 73, 53, 69, 32, 65, 76, 61]), array([38, 53, 35, 30, 33, 36, 55, 54]), array([42, 52, 65, 54, 61]), array([52, 60, 29, 38, 71, 57, 30, 65, 59]), array([29, 38, 37, 71, 31, 68, 69, 72, 64, 59, 55]), array([74, 62, 38, 51, 35, 71, 31, 57, 75, 65]), array([67, 62, 70, 51, 35, 71, 59, 55]), array([29, 51, 31, 30, 33, 32]), array([42, 52, 65, 54, 61]), array([62, 38, 51, 58, 53, 63, 59, 36, 55]), array([60, 62, 29, 38, 71, 59, 55]), array([66, 62, 29, 38, 51, 31, 69]), array([70, 51, 71, 57, 63, 69, 32, 64, 36]), array([38, 51, 37, 31, 30, 33, 32, 36]), array([60, 56, 51, 31, 72, 61]), array([74, 52, 67, 70, 35, 57, 33, 65, 59, 36, 55]), array([29, 63, 30, 33, 54]), array([62, 38, 51, 58, 37, 30, 54, 76]), array([66, 73, 37, 35, 31, 63, 75, 72, 65, 55, 61]), array([70, 75, 59, 34, 61]), array([70, 51, 73, 53, 31, 30, 59, 55]), array([52, 66, 70, 29, 51, 71, 30, 69, 65, 34]), array([52, 73, 37, 31, 30, 59, 54]), array([52, 38, 51, 31, 68, 30, 33, 65, 76]), array([29, 51, 71, 32, 64, 61]), array([67, 56, 51, 73, 31, 68, 30, 69, 33, 32, 55, 54]), array([67, 62, 70, 51, 35, 71, 59, 55]), array([62, 30, 69, 54]), array([29, 51, 53, 68, 30, 72, 59]), array([74, 38, 35, 31, 63, 69, 33, 55, 54]), array([29, 51, 35, 31, 30, 32, 34]), array([66, 60, 70, 29, 51, 58, 37, 57, 63, 75, 72, 32, 36, 61]), array([74, 29, 51, 63, 69, 65, 54]), array([62, 58, 37, 30, 32, 64, 59]), array([66, 56, 38, 57, 69, 72, 33, 64, 34]), array([70, 38, 51, 31, 57, 72, 64, 59, 55]), array([74, 38, 35, 69, 32, 54]), array([60, 30, 61]), array([62, 51, 71, 31, 30, 69, 32, 55]), array([70, 29, 30, 69, 55]), array([51, 30, 69, 64, 59, 61]), array([70, 29, 38, 73, 30, 59, 36, 55, 61]), array([66, 51, 37, 53, 35, 71, 57, 75, 33, 55]), array([62, 68, 30, 69, 55]), array([63, 68, 30, 69, 32, 65, 76]), array([56, 38, 51, 71, 63, 68, 30, 64]), array([51, 71, 57, 63, 75, 30, 65, 64, 54]), array([67, 60, 62, 56, 29, 71, 31, 30, 65, 55, 54]), array([52, 29, 51, 37, 68, 59, 76]), array([60, 70, 29, 71, 30, 69, 64, 61]), array([66, 62, 29, 38, 37, 35, 32, 36, 34]), array([62, 58, 37, 30, 32, 64, 59]), array([67, 29, 51, 58, 71, 31, 59]), array([38, 58, 31, 68, 30, 33, 32, 65, 34, 55]), array([37, 76]), array([66, 38, 65, 64, 76, 61]), array([29, 38, 37, 35, 57, 36, 34]), array([52, 62, 71, 30, 69, 59, 55, 61]), array([51, 73, 58, 37, 71, 57, 33, 59]), array([35, 75]), array([70, 51, 58, 63, 68, 30, 65, 64]), array([38, 51, 35, 31, 30, 69, 32, 34]), array([74, 60, 56, 70, 51, 73, 37, 31, 63, 68, 72, 59, 54, 61]), array([62, 68, 30, 69, 55]), array([70, 51, 58, 69, 64, 36, 34, 55]), array([70, 51, 58, 37, 72, 32, 36, 55]), array([70, 29, 38, 51, 30, 59, 36, 34]), array([51, 58, 31, 68, 69, 64, 59, 61]), array([29, 38, 73, 35, 31, 33]), array([49, 51, 58, 71, 63, 68, 61]), array([38, 58, 31, 68, 30, 33, 32, 65, 34, 55]), array([62, 38, 51, 58, 53, 63, 59, 36, 55]), array([67, 60, 62, 70, 51, 73, 53, 71, 31, 75, 65, 59, 36, 34, 55]), array([38, 68, 75, 30, 76, 61]), array([68, 75, 30, 69, 72, 59, 36, 61]), array([27, 29, 38, 35, 31, 57, 63, 30, 33]), array([70, 51, 53, 35, 71, 57, 32, 34]), array([52, 60, 62, 70, 30, 64, 34, 76]), array([70, 51, 58, 63, 68, 30, 65, 64]), array([66, 56, 29, 53, 71, 31, 57, 75, 69, 33, 65, 59, 61]), array([70, 51, 58, 37, 72, 32, 36, 55]), array([51, 63, 30, 72, 32, 65, 59, 34, 61]), array([52, 62, 70, 51, 53, 31, 69, 65, 34, 55]), array([62, 51, 71, 57, 30, 69, 59]), array([60, 71, 31, 30, 69, 65, 55]), array([52, 62, 29, 73, 53, 63, 65, 55, 61]), array([52, 70, 29, 51, 71, 57, 30, 59]), array([56, 70, 51, 35, 71, 68, 30, 72, 65, 59, 55]), array([66, 62, 38, 71, 31, 57, 68, 30, 65, 55, 54]), array([29, 38, 51, 37, 35, 30, 33, 32, 34]), array([62, 51, 57, 63, 30, 59, 61]), array([70, 29, 37, 71, 31, 75, 30, 32, 34]), array([44, 56, 70, 51, 58, 37, 53, 71, 63, 68, 75, 65, 64, 59, 55]), array([31, 63, 32]), array([56, 38, 51, 71, 63, 68, 30, 64]), array([60, 62, 38, 51, 71, 63, 68, 69, 32, 55]), array([52, 53, 64, 59, 36, 55, 61]), array([70, 51, 37, 53, 33, 59, 36, 55]), array([52, 60, 29, 38, 71, 57, 30, 65, 59]), array([56, 51, 58, 53, 71, 31, 68, 30, 69, 55, 61]), array([38, 51, 31, 69, 72, 33, 59, 36, 61]), array([74, 29, 51, 63, 69, 65, 54]), array([74, 52, 26, 56, 73, 58, 37, 53, 63, 32, 36, 61]), array([52, 66, 67, 58, 37, 71, 63, 75, 72, 64, 59, 55, 54]), array([67, 60, 62, 70, 38, 73, 71, 57, 63, 68, 30, 34, 54]), array([70, 29, 37, 31, 63, 32, 59, 36]), array([74, 52, 62, 51, 58, 37, 53, 35, 69, 36, 55, 54]), array([44, 56, 70, 51, 58, 37, 53, 71, 63, 68, 75, 65, 64, 59, 55]), array([66, 51, 37, 53, 35, 71, 57, 75, 33, 55]), array([62, 51, 71, 57, 30, 69, 59]), array([38, 51, 35, 30, 69, 33, 32, 36, 54]), array([74, 38, 51, 68, 30, 32, 65, 64]), array([52, 70, 51, 71, 30, 69, 72, 65, 59, 55, 76]), array([70, 51, 37, 53, 65, 36, 55, 61]), array([60, 71, 31, 30, 69, 65, 55]), array([35, 75]), array([70, 38, 71, 57, 68, 34, 55]), array([66, 62, 51, 58, 35, 57, 30, 72, 32, 65, 59, 55, 76]), array([52, 66, 31, 75, 55]), array([38, 31, 57, 68, 64, 59, 36, 55]), array([51, 71, 31, 65, 55, 54]), array([62, 51, 57, 30, 32, 64, 55]), array([70, 29, 37, 31, 63, 32, 59, 36]), array([56, 70, 51, 68, 30, 69, 64, 59, 55]), array([29, 38, 51, 37, 69, 33, 34]), array([51, 58, 37, 30, 69, 64]), array([52, 62, 70, 51, 53, 31, 69, 65, 34, 55]), array([62, 51, 31, 30, 72, 65, 64, 59, 55]), array([60, 29, 73, 58, 35, 31, 75, 30, 32, 65, 55, 61]), array([70, 31, 30, 33, 32, 65, 64, 59, 55, 76]), array([70, 51, 63, 68, 30, 59]), array([29, 51, 71, 32, 64, 61]), array([70, 73, 37, 31, 65, 34, 55]), array([29, 38, 51, 37, 69, 33, 34]), array([38, 51, 69, 32, 34]), array([51, 58, 37, 33, 36, 34, 61]), array([67, 62, 70, 29, 73, 31, 57, 75, 72, 65, 36, 54]), array([70, 38, 71, 57, 68, 34, 55]), array([51, 31, 63, 75, 30, 59]), array([66, 67, 56, 29, 72, 61]), array([74, 29, 33, 32, 34]), array([67, 60, 56, 51, 37, 71, 31, 57, 68, 69, 33, 59, 55]), array([56, 51, 53, 71, 68, 32, 64, 76, 61]), array([66, 29, 51, 58, 31, 75, 30, 65, 55, 54]), array([66, 44, 62, 73, 31, 57, 68, 69, 65, 64, 59, 54]), array([74, 51, 35, 31, 63, 75, 33, 55]), array([62, 29, 71, 75, 72, 59, 55]), array([66, 29, 51, 58, 31, 75, 30, 65, 55, 54]), array([67, 60, 51, 37, 53, 57, 68, 75, 30, 32, 64, 59, 55, 54]), array([74, 52, 62, 51, 31, 63, 30, 32]), array([29, 71, 75, 30, 64, 55, 61]), array([42, 52, 65, 54, 61]), array([66, 51, 57, 68, 32]), array([29, 51, 53, 31, 68, 69, 65]), array([52, 66, 62, 56, 29, 37, 33, 65, 55]), array([70, 29, 38, 51, 37, 31, 63, 68, 30, 69, 32, 65, 55, 61]), array([29, 71, 75, 30, 64, 55, 61]), array([52, 37, 31, 69, 65, 55]), array([29, 51, 58, 53, 31, 57, 30, 64, 55]), array([74, 60, 56, 70, 71, 57, 63, 72, 33, 32, 55, 76, 61]), array([73, 37, 53, 71, 75, 30, 33, 65, 59, 76]), array([57, 72, 32, 65, 34, 55, 76]), array([66, 62, 29, 38, 30, 69, 34]), array([74, 60, 38, 51, 73, 57, 63, 68, 72, 33, 65, 59, 55]), array([67, 62, 70, 51, 35, 71, 59, 55]), array([29, 51, 53, 31, 68, 69, 65]), array([38, 51, 31, 69, 72, 33, 59, 36, 61]), array([38, 71, 75, 30, 69, 32, 65, 59, 36, 34]), array([52, 67, 62, 51, 73, 58, 31, 68, 33, 65, 34, 54]), array([60, 62, 51, 35, 31, 30, 33, 32, 34]), array([67, 56, 51, 53, 31, 68, 72, 33, 34, 55]), array([62, 56, 51, 58, 30, 69, 65, 55, 54]), array([56, 70, 71, 69, 33, 65, 59, 36, 55]), array([70, 51, 63, 33, 32, 59, 34, 76]), array([56, 51, 58, 31, 30, 32, 54]), array([62, 38, 37, 30, 69, 65, 59, 55]), array([62, 51, 53, 31, 57, 68, 59, 55]), array([52, 62, 29, 73, 53, 63, 65, 55, 61]), array([52, 62, 29, 30, 69, 36, 34]), array([67, 60, 62, 56, 29, 71, 31, 30, 65, 55, 54]), array([60, 38, 35, 63, 30, 69, 36, 34]), array([67, 70, 29, 73, 68, 75, 30, 55]), array([62, 38, 51, 53, 63, 68, 65, 55]), array([36, 34, 55, 54, 76, 61]), array([51, 73, 58, 37, 71, 57, 33, 59]), array([62, 51, 58, 31, 30, 55, 54, 61]), array([62, 56, 58, 68, 30, 69, 72, 64, 55]), array([70, 51, 63, 68, 30, 59]), array([62, 51, 31, 75, 30, 32, 61]), array([74, 31, 68, 75, 69, 32, 64, 36]), array([56, 70, 71, 31, 33, 59, 36, 55, 61]), array([66, 51, 37, 53, 35, 71, 57, 75, 33, 55]), array([66, 70, 38, 51, 75, 33]), array([52, 70, 37, 68, 69, 72, 65, 55]), array([38, 51, 58, 68, 30, 72, 64, 54]), array([66, 62, 70, 35, 31, 63, 30, 32, 65, 55]), array([70, 51, 63, 33, 32, 59, 34, 76]), array([60, 71, 31, 30, 69, 65, 55]), array([70, 31, 30, 32, 64, 55]), array([52, 62, 31, 57, 65, 34, 55]), array([66, 60, 70, 58, 30, 65, 64, 55]), array([62, 29, 51, 58, 53, 69, 33, 55, 61]), array([29, 51, 31, 57, 68, 30, 59, 76]), array([52, 66, 51, 68, 30, 69, 65, 64, 59, 55, 61]), array([74, 52, 60, 70, 57, 75, 30, 33, 64, 55, 54]), array([52, 29, 71, 63, 34, 54]), array([52, 38, 51, 31, 68, 30, 33, 65, 76]), array([74, 67, 70, 29, 58, 71, 31, 75, 64, 55, 76, 61]), array([70, 51, 63, 33, 32, 59, 34, 76]), array([58, 57, 75, 65, 59, 36, 34, 54]), array([62, 51, 31, 75, 30, 32, 61]), array([38, 51, 73, 57, 75, 65, 64, 59]), array([62, 70, 29, 51, 58, 63, 33, 59, 34, 55, 54]), array([74, 66, 67, 60, 51, 58, 31, 75, 69, 65, 59, 55]), array([56, 38, 51, 71, 63, 68, 30, 64]), array([62, 70, 30, 64, 59, 55]), array([66, 51, 31, 69, 61]), array([29, 38, 51, 37, 63, 68, 33, 65, 59]), array([52, 60, 29, 38, 71, 57, 30, 65, 59]), array([70, 31, 63, 68, 32, 65, 64, 59, 55]), array([51, 58, 37, 31, 65, 59, 34, 54, 76]), array([66, 29, 37, 53, 63, 30]), array([62, 38, 51, 53, 63, 68, 65, 55]), array([66, 62, 70, 51, 68, 30, 69, 65, 55]), array([70, 51, 63, 68, 30, 59]), array([38, 51, 71, 75, 69, 72, 65, 34]), array([66, 67, 70, 29, 38, 73, 71, 65, 64, 59, 36, 55, 76, 61]), array([51, 57, 63, 75, 30, 69, 59, 54]), array([60, 29, 37, 35, 31, 68, 32, 36, 34]), array([33, 32, 65, 64, 59, 61]), array([29, 38, 31, 30, 64, 34, 55, 54]), array([29, 63, 30, 65, 64, 55, 54]), array([66, 51, 73, 31, 57, 65, 36, 55, 61]), array([74, 60, 70, 51, 71, 57, 30, 69, 65]), array([74, 52, 62, 56, 73, 37, 53, 35, 68, 75, 69, 72, 65, 64, 34, 54, 61]), array([66, 62, 29, 37, 71, 63, 30, 65, 55]), array([74, 51, 35, 31, 63, 75, 33, 55]), array([66, 51, 53, 31, 30, 59]), array([38, 58, 31, 68, 30, 33, 32, 65, 34, 55]), array([58, 57, 75, 65, 59, 36, 34, 54]), array([63, 65, 64, 36, 55, 61]), array([67, 56, 73, 71, 31, 57, 63, 64, 34, 76]), array([58, 57, 75, 65, 59, 36, 34, 54]), array([74, 31, 68, 75, 69, 32, 64, 36]), array([52, 29, 33, 65, 59, 55, 76, 61]), array([37, 35, 71, 31, 57, 30, 69, 32, 36]), array([52, 66, 67, 58, 37, 71, 63, 75, 72, 64, 59, 55, 54]), array([36, 34, 55, 54, 76, 61]), array([51, 35, 63, 64, 59, 55, 54]), array([71, 31, 63, 30, 32, 59, 61]), array([66, 51, 53, 68, 69, 32, 64, 59]), array([56, 73, 35, 31, 57, 75, 32, 59, 55]), array([66, 67, 56, 29, 72, 61]), array([70, 35, 31, 30, 69, 33, 32, 34]), array([56, 70, 71, 31, 33, 59, 36, 55, 61]), array([62, 29, 51, 53, 69, 65, 64, 59, 34]), array([60, 38, 35, 63, 30, 69, 36, 34]), array([70, 38, 51, 37, 57, 32, 59]), array([29, 38, 31, 30, 64, 34, 55, 54]), array([29, 38, 51, 37, 69, 33, 34]), array([66, 60, 70, 58, 30, 65, 64, 55]), array([62, 38, 51, 58, 53, 63, 64, 59]), array([51, 63, 30, 72, 32, 65, 59, 34, 61]), array([67, 29, 63, 69, 64, 36, 61]), array([74, 52, 66, 67, 71, 31, 75, 65, 59]), array([74, 60, 62, 29, 32, 76, 61]), array([70, 29, 37, 31, 63, 32, 59, 36]), array([70, 51, 58, 37, 72, 32, 36, 55]), array([74, 52, 60, 70, 57, 75, 30, 33, 64, 55, 54]), array([38, 51, 58, 31, 68, 30, 69, 72, 59, 36]), array([62, 31, 68, 30, 72, 32, 65, 36, 55, 54]), array([29, 38, 51, 37, 63, 68, 33, 65, 59]), array([52, 70, 51, 58, 31, 30, 69, 72, 32, 64, 59, 55]), array([16, 62, 70, 51, 58, 57, 63, 30, 64, 59, 55, 54]), array([51, 58, 37, 35, 30, 69, 32, 65, 64]), array([70, 29, 58, 31, 75, 30, 69, 33, 65, 59, 36]), array([60, 35, 65, 36, 55, 61]), array([52, 38, 51, 58, 37, 31, 57, 75, 59]), array([74, 51, 73, 58, 37, 71, 57, 75, 33, 65, 36]), array([68, 30, 72, 32, 59]), array([62, 56, 73, 58, 53, 71, 57, 63, 75, 30, 72, 33, 64, 76, 61]), array([73, 37, 53, 71, 75, 30, 33, 65, 59, 76]), array([52, 62, 71, 30, 69, 59, 55, 61]), array([60, 70, 29, 71, 30, 69, 64, 61]), array([52, 67, 60, 62, 70, 51, 73, 31, 57, 63, 30, 59, 55, 76]), array([74, 60, 51, 58, 53, 31, 75, 72, 33, 61]), array([74, 52, 62, 56, 73, 37, 53, 35, 68, 75, 69, 72, 65, 64, 34, 54, 61]), array([62, 29, 31, 57, 59]), array([70, 29, 38, 51, 37, 31, 63, 68, 30, 69, 32, 65, 55, 61]), array([56, 73, 35, 31, 57, 75, 32, 59, 55]), array([52, 66, 70, 38, 73, 58, 37, 68, 75, 69, 64, 59, 55]), array([52, 62, 71, 31, 64, 55]), array([58, 57, 75, 65, 59, 36, 34, 54]), array([60, 31, 30, 69, 72, 32, 55]), array([66, 70, 38, 51, 68, 30, 32, 59, 36]), array([67, 60, 62, 70, 51, 73, 53, 71, 31, 75, 65, 59, 36, 34, 55]), array([52, 60, 38, 51, 37, 53, 35, 31, 76, 61]), array([74, 52, 26, 56, 73, 58, 37, 53, 63, 32, 36, 61]), array([16, 44, 70, 38, 51, 31, 63, 68, 30, 69, 32, 59, 34]), array([37, 30, 69, 64, 59, 55, 54]), array([66, 31, 75, 30, 32, 59, 55, 61]), array([62, 70, 29, 38, 35, 71, 31, 68, 30, 72, 65, 55]), array([70, 31, 30, 32, 64, 55]), array([66, 51, 57, 68, 32]), array([70, 38, 51, 37, 35, 63, 69, 65, 36]), array([52, 60, 29, 38, 71, 57, 30, 65, 59]), array([66, 62, 51, 30, 69, 64, 59, 54]), array([52, 62, 71, 31, 64, 55]), array([66, 31, 75, 30, 32, 59, 55, 61]), array([70, 75, 59, 34, 61]), array([66, 62, 29, 71, 63, 75, 72, 32, 65, 36]), array([74, 52, 67, 56, 29, 51, 73, 71, 59, 61]), array([70, 51, 37, 53, 65, 36, 55, 61]), array([51, 58, 37, 33, 36, 34, 61]), array([58, 31, 30, 33, 32, 34]), array([51, 68, 30, 59, 55, 54]), array([67, 60, 51, 37, 53, 57, 68, 75, 30, 32, 64, 59, 55, 54]), array([62, 51, 71, 31, 30, 69, 32, 55]), array([38, 51, 58, 68, 30, 72, 64, 54]), array([29, 51, 37, 31, 30, 33, 32]), array([66, 62, 29, 38, 30, 69, 34]), array([56, 38, 51, 71, 63, 68, 30, 64]), array([66, 56, 70, 29, 53, 68, 32]), array([74, 37, 31, 30, 33, 34]), array([74, 29, 53, 68, 32, 65, 64, 59, 55]), array([62, 38, 51, 53, 68]), array([70, 51, 53, 31, 75, 30]), array([66, 60, 56, 37, 35, 71, 31, 59, 55, 54]), array([52, 70, 29, 53, 31, 68, 30, 65, 59]), array([74, 62, 31, 33, 65, 64, 55]), array([66, 60, 62, 70, 29, 51, 37, 31, 75, 59]), array([62, 31, 68, 30, 72, 32, 65, 36, 55, 54]), array([35, 68, 30, 32, 59, 36]), array([67, 60, 51, 37, 53, 57, 68, 75, 30, 32, 64, 59, 55, 54]), array([29, 51, 35, 31, 30, 32, 34]), array([74, 70, 51, 37, 35, 71, 33, 65, 61]), array([66, 62, 51, 30, 69, 64, 59, 54]), array([62, 38, 51, 53, 68]), array([74, 66, 38, 51, 73, 75, 59, 34]), array([51, 58, 37, 31, 65, 59, 34, 54, 76]), array([60, 62, 29, 51, 73, 37, 53, 31, 72, 32, 64, 55, 54]), array([29, 71, 75, 30, 64, 55, 61]), array([63, 65, 64, 36, 55, 61]), array([52, 60, 70, 38, 51, 68, 65, 64, 55]), array([66, 62, 51, 71, 31, 30, 32, 65, 64, 59]), array([62, 51, 57, 30, 32, 64, 55]), array([51, 73, 58, 68, 69, 59, 36, 55]), array([70, 51, 37, 53, 33, 59, 36, 55]), array([66, 62, 51, 53, 71, 32, 65, 59, 61]), array([29, 38, 51, 73, 58, 37, 57, 69, 64, 59, 55, 76, 61]), array([31, 63, 32]), array([38, 51, 31, 57, 68, 36, 61]), array([66, 70, 51, 37, 71, 68, 69, 65, 59]), array([38, 51, 35, 30, 69, 33, 32, 36, 54]), array([52, 70, 51, 58, 31, 30, 69, 72, 32, 64, 59, 55]), array([56, 73, 35, 31, 57, 75, 32, 59, 55]), array([73, 57, 68, 33, 32, 65, 34, 55, 76]), array([62, 70, 38, 53, 68, 65, 64]), array([51, 31, 57, 68, 65, 64, 34, 54]), array([66, 62, 38, 71, 31, 57, 68, 30, 65, 55, 54]), array([60, 62, 38, 51, 71, 63, 68, 69, 32, 55]), array([38, 51, 31, 69, 72, 33, 59, 36, 61]), array([38, 57, 65, 59]), array([66, 62, 29, 51, 58, 32, 59, 54]), array([67, 56, 38, 31, 63, 30, 59, 61]), array([62, 29, 58, 31, 30, 33, 65, 55]), array([74, 60, 56, 70, 51, 73, 37, 31, 63, 68, 72, 59, 54, 61]), array([52, 51, 53, 72, 33, 34, 55]), array([49, 51, 58, 71, 63, 68, 61]), array([49, 62, 56, 29, 51, 58, 37, 31, 63, 30, 69, 65, 36, 54, 76]), array([66, 62, 70, 35, 31, 63, 30, 32, 65, 55]), array([74, 52, 62, 56, 73, 37, 53, 35, 68, 75, 69, 72, 65, 64, 34, 54, 61]), array([74, 51, 30, 72, 59, 55, 54]), array([73, 37, 53, 71, 75, 30, 33, 65, 59, 76]), array([51, 31, 68, 59, 61]), array([52, 66, 62, 56, 29, 37, 33, 65, 55]), array([52, 62, 70, 51, 53, 31, 69, 65, 34, 55]), array([66, 62, 51, 71, 31, 30, 32, 65, 64, 59]), array([62, 51, 58, 33, 65, 34]), array([52, 66, 70, 38, 73, 58, 37, 68, 75, 69, 64, 59, 55]), array([52, 62, 70, 37, 71, 57, 63, 75, 30, 64, 59, 55]), array([56, 51, 58, 31, 30, 32, 54]), array([62, 56, 58, 68, 30, 69, 72, 64, 55]), array([62, 51, 71, 75, 33, 32, 65, 64]), array([70, 51, 57, 68, 32, 65, 59]), array([51, 37, 35, 64, 59, 55, 76, 61]), array([60, 62, 70, 29, 68, 75, 30, 33, 32]), array([67, 29, 31, 30, 59, 55, 61]), array([56, 29, 63, 30, 65, 64, 59, 34]), array([70, 51, 31, 68, 75, 32, 55, 76]), array([29, 38, 51, 37, 69, 33, 34]), array([68, 75, 30, 69, 72, 59, 36, 61]), array([62, 29, 51, 53, 69, 65, 64, 59, 34]), array([60, 56, 70, 37, 75, 32, 65, 59, 36, 61]), array([60, 29, 73, 58, 35, 31, 75, 30, 32, 65, 55, 61]), array([51, 37, 53, 35, 65, 59, 34, 55, 54, 76]), array([62, 51, 58, 71, 63, 30, 65, 64, 54]), array([62, 51, 35, 63, 69, 55]), array([52, 60, 29, 38, 71, 57, 30, 65, 59]), array([74, 52, 26, 56, 73, 58, 37, 53, 63, 32, 36, 61]), array([74, 62, 56, 71, 75, 72, 32, 36, 61]), array([29, 51, 35, 30, 69, 32]), array([74, 66, 67, 60, 56, 29, 53, 63, 75, 64, 54, 76, 61]), array([56, 38, 51, 71, 63, 68, 30, 64]), array([66, 51, 37, 53, 35, 71, 57, 75, 33, 55]), array([66, 51, 57, 68, 32]), array([60, 38, 35, 63, 30, 69, 36, 34]), array([51, 71, 31, 68, 75, 32, 76, 61]), array([74, 62, 31, 33, 65, 64, 55]), array([51, 58, 31, 68, 69, 64, 59, 61]), array([62, 51, 71, 75, 33, 32, 65, 64]), array([60, 38, 58, 53, 71, 31, 65, 36, 54, 76]), array([51, 71, 31, 68, 75, 32, 76, 61]), array([74, 66, 38, 51, 73, 75, 59, 34]), array([51, 63, 30, 72, 32, 65, 59, 34, 61]), array([51, 71, 31, 68, 75, 32, 76, 61]), array([66, 62, 29, 71, 63, 75, 72, 32, 65, 36]), array([66, 67, 70, 51, 73, 71, 75, 30, 65, 59, 34, 55, 54, 76]), array([63, 68, 30, 69, 32, 65, 76]), array([70, 29, 58, 31, 57, 65, 54]), array([62, 51, 73, 63, 30, 69]), array([60, 51, 63, 30, 33, 64, 59]), array([66, 29, 51, 73, 53, 72, 65, 54, 76, 61]), array([62, 68, 30, 69, 55]), array([70, 29, 57, 30, 65, 59, 55, 54]), array([56, 29, 63, 30, 65, 64, 59, 34]), array([38, 53, 35, 30, 33, 36, 55, 54]), array([66, 67, 60, 51, 73, 35, 71, 69, 72, 33, 32, 64, 54]), array([60, 62, 70, 51, 58, 71, 68, 30, 69, 72, 33, 32, 65, 64, 55, 61]), array([52, 29, 51, 31, 57, 30, 69, 54]), array([29, 38, 51, 37, 35, 59, 36, 34, 76]), array([52, 70, 29, 73, 58, 53, 63, 69, 65, 55]), array([53, 71, 63, 75, 33, 64]), array([29, 51, 73, 37, 68, 69, 65, 59]), array([44, 56, 70, 51, 58, 37, 53, 71, 63, 68, 75, 65, 64, 59, 55]), array([62, 51, 57, 30, 32, 64, 55]), array([62, 29, 51, 58, 53, 69, 33, 55, 61]), array([62, 70, 51, 53, 35, 71, 69, 59]), array([74, 51, 35, 31, 63, 75, 33, 55]), array([70, 29, 35, 68, 55, 76]), array([66, 70, 38, 51, 30, 69, 65, 59]), array([60, 56, 73, 35, 71, 31, 57, 63, 68, 30, 34, 55, 76, 61]), array([74, 31, 68, 75, 69, 32, 64, 36]), array([63, 72, 32, 65, 59, 54]), array([70, 38, 51, 37, 57, 32, 59]), array([60, 38, 35, 63, 30, 69, 36, 34]), array([38, 35, 68, 33, 65, 34, 54]), array([52, 60, 29, 38, 71, 57, 30, 65, 59]), array([56, 51, 63, 33, 64, 59, 36, 54]), array([38, 51, 71, 75, 69, 72, 65, 34]), array([62, 29, 51, 53, 63, 68, 69, 65, 64, 36]), array([67, 29, 63, 69, 64, 36, 61]), array([62, 53, 31, 30, 32, 65, 64, 59, 55]), array([74, 60, 38, 51, 73, 57, 63, 68, 72, 33, 65, 59, 55]), array([74, 38, 37, 35, 30, 32, 59, 34, 55]), array([39, 74, 52, 66, 70, 63, 75, 69]), array([60, 38, 58, 53, 71, 31, 65, 36, 54, 76]), array([60, 62, 38, 37, 71, 30, 59, 55]), array([62, 38, 53, 32, 34, 54, 61]), array([74, 62, 29, 38, 51, 71, 63, 30, 72, 64, 59, 55, 54]), array([66, 70, 29, 37, 68, 69, 59]), array([38, 63, 65, 59]), array([38, 51, 73, 57, 75, 65, 64, 59]), array([51, 63, 75, 30, 72, 33, 65, 54]), array([70, 51, 53, 31, 75, 30]), array([62, 68, 59, 34, 55, 61]), array([62, 29, 51, 58, 37, 63, 30, 33]), array([51, 31, 68, 59, 61]), array([52, 67, 38, 58, 71, 57, 63, 59, 36, 55, 54, 76, 61]), array([29, 38, 35, 63, 30, 34]), array([52, 60, 62, 70, 30, 64, 34, 76]), array([74, 62, 31, 33, 65, 64, 55]), array([56, 38, 51, 71, 63, 68, 30, 64]), array([74, 52, 62, 29, 58, 35, 31, 63, 68, 72, 55]), array([52, 62, 29, 30, 69, 36, 34]), array([67, 62, 70, 51, 35, 71, 59, 55]), array([66, 62, 38, 51, 30, 65, 34]), array([66, 51, 31, 69, 61]), array([58, 37, 35, 63, 68, 59, 36, 76]), array([29, 51, 58, 30, 69, 59, 54]), array([67, 56, 71, 30, 65, 55]), array([66, 29, 51, 58, 31, 75, 30, 65, 55, 54]), array([66, 51, 71, 68, 30, 69, 72, 32, 59, 76]), array([74, 51, 73, 58, 37, 71, 57, 75, 33, 65, 36]), array([74, 52, 67, 56, 29, 51, 73, 71, 59, 61]), array([74, 51, 72, 32, 55]), array([70, 29, 30, 69, 55]), array([74, 62, 56, 29, 30, 33, 32, 59, 36, 34, 54, 61]), array([51, 63, 30, 72, 32, 65, 59, 34, 61]), array([58, 68, 30, 55]), array([38, 57, 65, 59]), array([62, 73, 31, 30, 69, 33, 32, 55]), array([33, 32, 65, 64, 59, 61]), array([74, 73, 68, 69, 33, 65]), array([62, 51, 53, 31, 68, 65, 36, 54]), array([52, 38, 51, 58, 37, 31, 57, 75, 59]), array([53, 31, 57, 30, 32, 59]), array([70, 29, 58, 31, 57, 65, 54]), array([67, 62, 73, 53, 31, 57, 75, 33, 65, 59, 76]), array([62, 29, 71, 75, 72, 59, 55]), array([66, 58, 30, 69, 64, 59, 55]), array([51, 31, 63, 75, 30, 59]), array([29, 38, 51, 58, 35, 64, 59]), array([66, 56, 29, 68, 30, 69]), array([29, 51, 68, 69, 33, 64, 36, 34, 54]), array([70, 71, 31, 30, 69, 32, 65, 64, 55, 54, 61]), array([70, 51, 37, 63, 68, 30, 33, 65, 36]), array([62, 29, 51, 53, 69, 65, 64, 59, 34]), array([66, 44, 62, 73, 31, 57, 68, 69, 65, 64, 59, 54]), array([67, 70, 53, 57, 75, 69, 32, 65, 54]), array([60, 62, 29, 33, 32]), array([29, 51, 37, 30, 32, 36, 34]), array([38, 51, 35, 31, 30, 69, 32, 34]), array([56, 51, 58, 53, 71, 31, 68, 30, 69, 55, 61]), array([29, 51, 58, 30, 69, 59, 54]), array([70, 38, 51, 31, 57, 72, 64, 59, 55]), array([52, 51, 31, 30, 33, 32]), array([52, 67, 62, 71, 31, 57, 63, 75, 30, 69, 55, 54, 76, 61]), array([52, 60, 62, 70, 30, 64, 34, 76]), array([38, 51, 53, 35, 68, 69, 65]), array([52, 29, 38, 37, 31, 30, 34, 76, 61]), array([66, 29, 31, 30, 69, 65, 64, 59, 55, 54]), array([71, 31, 75, 32, 65, 64, 59, 55, 54]), array([38, 68, 30, 33, 55, 61]), array([29, 31, 68, 30, 69, 72, 55]), array([62, 29, 31, 57, 59]), array([66, 62, 70, 35, 31, 63, 30, 32, 65, 55]), array([38, 51, 58, 30, 69, 72, 59, 61]), array([29, 38, 51, 53, 63]), array([29, 38, 51, 58, 35, 64, 59]), array([29, 73, 57, 33, 65, 55]), array([52, 67, 38, 71, 63, 75, 30, 65, 54]), array([67, 57, 30, 69, 59, 76, 61]), array([60, 70, 51, 53, 35, 68, 69]), array([70, 38, 51, 31, 57, 72, 64, 59, 55]), array([74, 66, 51, 53, 35, 31, 63, 75, 69, 33, 32, 34, 76, 61]), array([67, 56, 71, 30, 65, 55]), array([52, 29, 31, 75, 33, 65, 59, 36, 55, 76, 61]), array([60, 51, 31, 63, 30, 32, 64, 55]), array([70, 29, 37, 35, 31, 30, 32, 65, 34, 61]), array([38, 35, 68, 33, 65, 34, 54]), array([51, 58, 37, 57, 30, 32, 64, 59, 34, 54]), array([62, 68, 75, 30, 72, 65, 55]), array([60, 51, 31, 57, 75, 30, 69, 59, 36, 55]), array([16, 44, 70, 38, 51, 31, 63, 68, 30, 69, 32, 59, 34]), array([67, 56, 70, 57, 69, 34]), array([35, 31, 75, 30, 33, 64, 59, 34, 55, 61]), array([52, 29, 38, 32, 34]), array([52, 66, 60, 62, 29, 71, 63, 68, 30, 64, 55]), array([66, 70, 38, 51, 30, 69, 65, 59]), array([29, 51, 35, 31, 30, 32, 34]), array([52, 71, 63, 32, 59, 55, 54, 76]), array([60, 62, 70, 51, 58, 71, 68, 30, 69, 72, 33, 32, 65, 64, 55, 61]), array([70, 51, 53, 31, 75, 30]), array([74, 29, 53, 68, 32, 65, 64, 59, 55]), array([66, 29, 51, 53, 68, 30, 69, 55, 54]), array([67, 29, 63, 69, 64, 36, 61]), array([29, 51, 35, 31, 30, 32, 34]), array([66, 70, 51, 37, 71, 68, 69, 65, 59]), array([60, 38, 51, 75, 69, 33, 65, 36]), array([38, 71, 68, 72, 33, 59, 34]), array([74, 60, 62, 29, 32, 76, 61]), array([38, 51, 73, 71, 69, 72, 32, 54, 76]), array([70, 38, 51, 63, 68, 69, 34]), array([62, 29, 51, 53, 69, 65, 64, 59, 34]), array([52, 62, 70, 51, 53, 31, 69, 65, 34, 55]), array([52, 62, 29, 37, 57, 68, 72]), array([60, 62, 29, 33, 32]), array([70, 58, 31, 63, 33, 36, 34, 55]), array([66, 70, 29, 37, 68, 69, 59]), array([52, 67, 62, 51, 73, 58, 31, 68, 33, 65, 34, 54]), array([74, 52, 62, 56, 73, 37, 53, 35, 68, 75, 69, 72, 65, 64, 34, 54, 61]), array([66, 62, 68, 30, 65, 55]), array([70, 29, 37, 71, 32, 65, 36]), array([51, 35, 75, 65, 59, 54, 61]), array([52, 38, 51, 31, 68, 30, 33, 65, 76]), array([60, 29, 38, 35, 31, 69, 33, 34]), array([66, 70, 29, 38, 51, 58, 68, 30, 33, 55]), array([66, 67, 70, 51, 73, 71, 75, 30, 65, 59, 34, 55, 54, 76]), array([52, 29, 71, 63, 34, 54]), array([29, 51, 58, 33, 64, 59, 55]), array([66, 51, 31, 68, 30, 69, 32, 64, 59, 55]), array([35, 31, 75, 30, 33, 64, 59, 34, 55, 61]), array([62, 71, 63, 30, 65, 59, 55, 54]), array([74, 62, 37, 35, 57, 68, 75, 55]), array([66, 38, 51, 58, 35, 68, 65, 64, 55, 54]), array([29, 58, 37, 53, 71, 33, 65, 64, 36]), array([67, 60, 62, 70, 51, 73, 53, 71, 31, 75, 65, 59, 36, 34, 55]), array([58, 68, 33, 32, 64, 54]), array([26, 62, 70, 51, 58, 68, 69, 32, 64, 59, 55, 61]), array([56, 38, 51, 35, 72, 33, 64, 59]), array([62, 51, 31, 30, 32, 59, 61]), array([35, 31, 75, 30, 33, 64, 59, 34, 55, 61]), array([63, 68, 30, 65, 55, 61]), array([62, 70, 29, 51, 58, 63, 33, 59, 34, 55, 54]), array([62, 29, 38, 51, 53, 35, 30, 72, 65]), array([70, 29, 31, 30, 32, 64, 59]), array([63, 68, 30, 65, 55, 61]), array([52, 70, 29, 53, 31, 68, 30, 65, 59]), array([62, 70, 58, 37, 71, 31, 57, 65, 59]), array([38, 51, 37, 71, 31, 63, 30, 33, 59, 54]), array([56, 70, 31, 57, 30, 64, 59, 55]), array([52, 70, 29, 38, 51, 71, 59]), array([29, 38, 37, 35, 71, 31, 30, 34, 76]), array([52, 67, 62, 51, 73, 58, 31, 68, 33, 65, 34, 54]), array([52, 60, 62, 51, 53, 31, 57, 72, 33, 65, 34, 55, 76, 61]), array([52, 62, 29, 30, 69, 36, 34]), array([52, 51, 58, 30, 69, 64, 59, 55, 76]), array([73, 53, 35, 71, 75, 33, 32, 64, 59]), array([74, 66, 67, 29, 57, 32, 64, 34, 61]), array([51, 58, 75, 69, 64, 36, 61]), array([62, 38, 37, 30, 69, 65, 59, 55]), array([66, 29, 53, 35, 31, 30, 69, 33, 32, 65, 59, 36, 34]), array([52, 66, 62, 56, 29, 37, 33, 65, 55]), array([60, 38, 35, 63, 30, 69, 36, 34]), array([70, 51, 31, 57, 69, 32, 65, 55, 54]), array([74, 67, 60, 62, 56, 73, 53, 71, 63, 75, 72, 33, 32, 54]), array([56, 70, 31, 57, 30, 64, 59, 55]), array([66, 51, 31, 68, 30, 69, 32, 64, 59, 55]), array([74, 66, 60, 38, 53, 35, 57, 69, 32, 61]), array([52, 67, 62, 71, 31, 57, 63, 75, 30, 69, 55, 54, 76, 61]), array([52, 70, 29, 53, 31, 68, 30, 65, 59]), array([56, 70, 71, 31, 33, 59, 36, 55, 61]), array([60, 70, 53, 31, 69, 65, 55, 54, 76]), array([52, 37, 68, 30, 69, 55, 61]), array([74, 66, 56, 73, 37, 63, 68, 33, 59, 61]), array([27, 74, 52, 29, 53, 31, 68, 30, 33, 32, 34, 76]), array([74, 56, 70, 29, 51, 37, 63, 65, 59]), array([52, 70, 29, 73, 58, 37, 69, 65, 55]), array([74, 51, 31, 30, 69, 72, 32]), array([66, 60, 62, 56, 71, 68, 75, 33, 65, 36]), array([73, 57, 68, 33, 32, 65, 34, 55, 76]), array([66, 70, 38, 51, 30]), array([62, 51, 35, 31, 75, 69, 55]), array([52, 38, 51, 35, 71, 75, 64, 59, 61]), array([66, 29, 51, 73, 53, 72, 65, 54, 76, 61]), array([66, 67, 70, 29, 38, 73, 71, 65, 64, 59, 36, 55, 76, 61]), array([66, 29, 51, 53, 68, 30, 69, 55, 54]), array([67, 56, 51, 35, 31, 57, 68, 36, 55, 61]), array([29, 38, 51, 37, 63, 68, 33, 65, 59]), array([52, 44, 70, 29, 51, 73, 58, 69, 65, 55, 61]), array([70, 38, 53, 35, 71, 65, 64, 55, 76]), array([51, 35, 75, 65, 59, 54, 61]), array([60, 62, 38, 37, 71, 30, 59, 55]), array([52, 70, 29, 51, 71, 57, 30, 59]), array([67, 60, 51, 37, 53, 57, 68, 75, 30, 32, 64, 59, 55, 54]), array([62, 29, 38, 51, 53, 35, 30, 72, 65]), array([52, 67, 38, 71, 63, 75, 30, 65, 54]), array([56, 29, 63, 30, 65, 64, 59, 34]), array([74, 66, 67, 60, 56, 70, 53, 31, 57, 63, 75, 64, 55, 76]), array([52, 62, 70, 37, 71, 57, 63, 75, 30, 64, 59, 55]), array([29, 38, 51, 73, 31, 57, 30, 64, 34]), array([29, 51, 58, 30, 69, 59, 54]), array([52, 58, 71, 57, 75, 32, 36, 61]), array([62, 29, 51, 58, 37, 63, 30, 33]), array([52, 62, 29, 37, 57, 68, 72]), array([70, 29, 38, 58, 37, 53, 63, 69, 64, 55, 54, 76]), array([39, 74, 52, 66, 70, 63, 75, 69]), array([66, 60, 29, 57, 30, 64, 59, 55]), array([74, 62, 37, 35, 57, 68, 75, 55]), array([53, 71, 63, 75, 33, 64]), array([52, 70, 29, 73, 58, 37, 69, 65, 55]), array([60, 51, 73, 68, 75, 33, 36, 34, 55]), array([29, 38, 37, 35, 71, 31, 30, 34, 76]), array([51, 31, 68, 30, 33, 32, 55, 76]), array([75, 33, 34, 55, 54]), array([67, 56, 71, 30, 65, 55]), array([66, 51, 37, 30, 69, 65, 64, 59, 55]), array([67, 29, 51, 58, 71, 31, 59])]\n"
     ]
    }
   ],
   "source": [
    "l = list()\n",
    "ind = list()\n",
    "for i in x[:1000]:\n",
    "    ind.append(i.indices)\n",
    "    l.append(i.data.prod())\n",
    "# print(l, '\\n')\n",
    "print(ind)"
   ]
  },
  {
   "cell_type": "code",
   "execution_count": 14,
   "metadata": {},
   "outputs": [
    {
     "name": "stdout",
     "output_type": "stream",
     "text": [
      "  (0, 36)\t0.5913139162095766\n",
      "  (0, 34)\t0.5669346995268073\n",
      "  (0, 55)\t0.22090446062287425\n",
      "  (0, 54)\t0.28593603394580036\n",
      "  (0, 76)\t0.3362140816630754\n",
      "  (0, 61)\t0.29212119750038734\n"
     ]
    }
   ],
   "source": [
    "print(x[0]) # kzde5577\n",
    "# password has 8 characters, but 5 and 7 are repeated. \n",
    "# Hence this is why we see only 6 unique characters for x[0] (kzde5577)"
   ]
  },
  {
   "cell_type": "code",
   "execution_count": 15,
   "metadata": {},
   "outputs": [
    {
     "data": {
      "text/html": [
       "<div>\n",
       "<style scoped>\n",
       "    .dataframe tbody tr th:only-of-type {\n",
       "        vertical-align: middle;\n",
       "    }\n",
       "\n",
       "    .dataframe tbody tr th {\n",
       "        vertical-align: top;\n",
       "    }\n",
       "\n",
       "    .dataframe thead th {\n",
       "        text-align: right;\n",
       "    }\n",
       "</style>\n",
       "<table border=\"1\" class=\"dataframe\">\n",
       "  <thead>\n",
       "    <tr style=\"text-align: right;\">\n",
       "      <th></th>\n",
       "      <th>TF-IDF</th>\n",
       "    </tr>\n",
       "  </thead>\n",
       "  <tbody>\n",
       "    <tr>\n",
       "      <th>7</th>\n",
       "      <td>0.591314</td>\n",
       "    </tr>\n",
       "    <tr>\n",
       "      <th>5</th>\n",
       "      <td>0.566935</td>\n",
       "    </tr>\n",
       "    <tr>\n",
       "      <th>z</th>\n",
       "      <td>0.336214</td>\n",
       "    </tr>\n",
       "    <tr>\n",
       "      <th>k</th>\n",
       "      <td>0.292121</td>\n",
       "    </tr>\n",
       "    <tr>\n",
       "      <th>d</th>\n",
       "      <td>0.285936</td>\n",
       "    </tr>\n",
       "    <tr>\n",
       "      <th>...</th>\n",
       "      <td>...</td>\n",
       "    </tr>\n",
       "    <tr>\n",
       "      <th>9</th>\n",
       "      <td>0.000000</td>\n",
       "    </tr>\n",
       "    <tr>\n",
       "      <th>8</th>\n",
       "      <td>0.000000</td>\n",
       "    </tr>\n",
       "    <tr>\n",
       "      <th>6</th>\n",
       "      <td>0.000000</td>\n",
       "    </tr>\n",
       "    <tr>\n",
       "      <th>4</th>\n",
       "      <td>0.000000</td>\n",
       "    </tr>\n",
       "    <tr>\n",
       "      <th>‚</th>\n",
       "      <td>0.000000</td>\n",
       "    </tr>\n",
       "  </tbody>\n",
       "</table>\n",
       "<p>129 rows × 1 columns</p>\n",
       "</div>"
      ],
      "text/plain": [
       "      TF-IDF\n",
       "7   0.591314\n",
       "5   0.566935\n",
       "z   0.336214\n",
       "k   0.292121\n",
       "d   0.285936\n",
       "..       ...\n",
       "9   0.000000\n",
       "8   0.000000\n",
       "6   0.000000\n",
       "4   0.000000\n",
       "‚   0.000000\n",
       "\n",
       "[129 rows x 1 columns]"
      ]
     },
     "execution_count": 15,
     "metadata": {},
     "output_type": "execute_result"
    }
   ],
   "source": [
    "df = pd.DataFrame(x[0].T.todense(), index = vectorizer.get_feature_names_out(), columns=['TF-IDF'])\n",
    "df.sort_values(by = ['TF-IDF'], ascending=False)"
   ]
  },
  {
   "cell_type": "code",
   "execution_count": 16,
   "metadata": {},
   "outputs": [
    {
     "data": {
      "text/html": [
       "<div>\n",
       "<style scoped>\n",
       "    .dataframe tbody tr th:only-of-type {\n",
       "        vertical-align: middle;\n",
       "    }\n",
       "\n",
       "    .dataframe tbody tr th {\n",
       "        vertical-align: top;\n",
       "    }\n",
       "\n",
       "    .dataframe thead th {\n",
       "        text-align: right;\n",
       "    }\n",
       "</style>\n",
       "<table border=\"1\" class=\"dataframe\">\n",
       "  <thead>\n",
       "    <tr style=\"text-align: right;\">\n",
       "      <th></th>\n",
       "      <th>TF-IDF</th>\n",
       "    </tr>\n",
       "  </thead>\n",
       "  <tbody>\n",
       "    <tr>\n",
       "      <th>4</th>\n",
       "      <td>0.617332</td>\n",
       "    </tr>\n",
       "    <tr>\n",
       "      <th>3</th>\n",
       "      <td>0.560414</td>\n",
       "    </tr>\n",
       "    <tr>\n",
       "      <th>k</th>\n",
       "      <td>0.321874</td>\n",
       "    </tr>\n",
       "    <tr>\n",
       "      <th>n</th>\n",
       "      <td>0.267880</td>\n",
       "    </tr>\n",
       "    <tr>\n",
       "      <th>o</th>\n",
       "      <td>0.256471</td>\n",
       "    </tr>\n",
       "    <tr>\n",
       "      <th>...</th>\n",
       "      <td>...</td>\n",
       "    </tr>\n",
       "    <tr>\n",
       "      <th>9</th>\n",
       "      <td>0.000000</td>\n",
       "    </tr>\n",
       "    <tr>\n",
       "      <th>8</th>\n",
       "      <td>0.000000</td>\n",
       "    </tr>\n",
       "    <tr>\n",
       "      <th>7</th>\n",
       "      <td>0.000000</td>\n",
       "    </tr>\n",
       "    <tr>\n",
       "      <th>6</th>\n",
       "      <td>0.000000</td>\n",
       "    </tr>\n",
       "    <tr>\n",
       "      <th>‚</th>\n",
       "      <td>0.000000</td>\n",
       "    </tr>\n",
       "  </tbody>\n",
       "</table>\n",
       "<p>129 rows × 1 columns</p>\n",
       "</div>"
      ],
      "text/plain": [
       "      TF-IDF\n",
       "4   0.617332\n",
       "3   0.560414\n",
       "k   0.321874\n",
       "n   0.267880\n",
       "o   0.256471\n",
       "..       ...\n",
       "9   0.000000\n",
       "8   0.000000\n",
       "7   0.000000\n",
       "6   0.000000\n",
       "‚   0.000000\n",
       "\n",
       "[129 rows x 1 columns]"
      ]
     },
     "execution_count": 16,
     "metadata": {},
     "output_type": "execute_result"
    }
   ],
   "source": [
    "df1 = pd.DataFrame(x[1].T.todense(), index = vectorizer.get_feature_names_out(), columns=['TF-IDF'])\n",
    "df1.sort_values(by = ['TF-IDF'], ascending=False)"
   ]
  },
  {
   "cell_type": "code",
   "execution_count": 17,
   "metadata": {},
   "outputs": [
    {
     "name": "stdout",
     "output_type": "stream",
     "text": [
      "  (0, 67)\t0.3787182938116179\n",
      "  (0, 58)\t0.3220601170057053\n",
      "  (0, 37)\t0.30467684922138666\n",
      "  (0, 71)\t0.288037436319974\n",
      "  (0, 65)\t0.24629211086864738\n",
      "  (0, 64)\t0.257248444050358\n",
      "  (0, 59)\t0.24236767142237786\n",
      "  (0, 36)\t0.6256816553170342\n",
      "  (1, 26)\t0.8610254924414129\n",
      "  (1, 70)\t0.15598589224604376\n",
      "  (1, 51)\t0.11029638265204642\n",
      "  (1, 57)\t0.17542362732612218\n",
      "  (1, 68)\t0.14614265284418526\n",
      "  (1, 64)\t0.14200625537063952\n",
      "  (1, 55)\t0.387093412745709\n",
      "  (2, 70)\t0.35288326863628067\n",
      "  (2, 51)\t0.49904190011772387\n",
      "  (2, 58)\t0.40219568902109953\n",
      "  (2, 31)\t0.30005312745195295\n",
      "  (2, 30)\t0.2586428893581639\n",
      "  (2, 32)\t0.3360405666643253\n",
      "  (2, 64)\t0.32125746014867984\n",
      "  (2, 59)\t0.30267402716752995\n",
      "  (3, 66)\t0.5158370416585247\n",
      "  (3, 60)\t0.2710757824627407\n",
      "  :\t:\n",
      "  (468744, 31)\t0.3036901637701112\n",
      "  (468744, 75)\t0.3902984729311264\n",
      "  (468744, 30)\t0.2617779794337694\n",
      "  (468744, 32)\t0.34011381781058553\n",
      "  (468744, 65)\t0.31130316330405305\n",
      "  (468744, 64)\t0.3251515207104286\n",
      "  (468745, 74)\t0.6654044423039005\n",
      "  (468745, 67)\t0.2212374540884321\n",
      "  (468745, 71)\t0.16826403724053493\n",
      "  (468745, 31)\t0.14035893395040114\n",
      "  (468745, 57)\t0.18564178524078245\n",
      "  (468745, 63)\t0.1616139528175634\n",
      "  (468745, 72)\t0.4212095198732563\n",
      "  (468745, 33)\t0.17315834008812908\n",
      "  (468745, 32)\t0.15719314809890148\n",
      "  (468745, 64)\t0.15027790249345954\n",
      "  (468745, 59)\t0.1415849391355269\n",
      "  (468745, 54)\t0.35348954606720895\n",
      "  (468746, 52)\t0.36232871378899856\n",
      "  (468746, 70)\t0.6121237266882964\n",
      "  (468746, 73)\t0.3761339329913504\n",
      "  (468746, 68)\t0.2867483206301483\n",
      "  (468746, 69)\t0.2951966873645009\n",
      "  (468746, 64)\t0.2786322435923062\n",
      "  (468746, 34)\t0.32487551470868464\n",
      "X Train:  (468747, 129)\n",
      "X Test:  (200892, 129)\n"
     ]
    }
   ],
   "source": [
    "# Split the data: 70% train and 30 % test\n",
    "# Text Vectorization layer in order to be a padded sequence ??\n",
    "xtrain, xtest, ytrain, ytest = train_test_split(x, y, test_size = 0.30)\n",
    "print(xtrain)\n",
    "print('X Train: ', xtrain.shape)\n",
    "print('X Test: ', xtest.shape)"
   ]
  },
  {
   "cell_type": "markdown",
   "metadata": {},
   "source": [
    "### Decision Tree Classifier"
   ]
  },
  {
   "cell_type": "code",
   "execution_count": 18,
   "metadata": {},
   "outputs": [
    {
     "data": {
      "text/plain": [
       "array([1, 1, 1, ..., 0, 1, 1])"
      ]
     },
     "execution_count": 18,
     "metadata": {},
     "output_type": "execute_result"
    }
   ],
   "source": [
    "dtr = DecisionTreeClassifier(random_state = 42)\n",
    "\n",
    "# Training\n",
    "dtr.fit(xtrain, ytrain)\n",
    "\n",
    "# Testing\n",
    "dtr_pred = dtr.predict(xtest)\n",
    "dtr_pred"
   ]
  },
  {
   "cell_type": "code",
   "execution_count": 19,
   "metadata": {},
   "outputs": [
    {
     "name": "stdout",
     "output_type": "stream",
     "text": [
      "              precision    recall  f1-score   support\n",
      "\n",
      "           0       0.93      0.93      0.93     26970\n",
      "           1       0.98      0.98      0.98    149165\n",
      "           2       0.95      0.94      0.95     24757\n",
      "\n",
      "    accuracy                           0.97    200892\n",
      "   macro avg       0.95      0.95      0.95    200892\n",
      "weighted avg       0.97      0.97      0.97    200892\n",
      "\n",
      "Root Mean Squared Error:  0.18845847283133924\n"
     ]
    }
   ],
   "source": [
    "dtr_cr = classification_report(ytest, dtr_pred)\n",
    "dtr_rmse = sqrt(mean_squared_error(ytest, dtr_pred))\n",
    "print(dtr_cr)\n",
    "print(\"Root Mean Squared Error: \", dtr_rmse)"
   ]
  },
  {
   "cell_type": "code",
   "execution_count": 20,
   "metadata": {},
   "outputs": [
    {
     "data": {
      "text/plain": [
       "<Axes: >"
      ]
     },
     "execution_count": 20,
     "metadata": {},
     "output_type": "execute_result"
    },
    {
     "data": {
      "image/png": "[encoded data removed]",
      "text/plain": [
       "<Figure size 640x480 with 2 Axes>"
      ]
     },
     "metadata": {},
     "output_type": "display_data"
    }
   ],
   "source": [
    "dtr_cm = confusion_matrix(ytest, dtr_pred)\n",
    "sns.heatmap(dtr_cm, annot = True)"
   ]
  },
  {
   "cell_type": "markdown",
   "metadata": {},
   "source": [
    "### Classifying a User Input"
   ]
  },
  {
   "cell_type": "code",
   "execution_count": 25,
   "metadata": {},
   "outputs": [
    {
     "name": "stdout",
     "output_type": "stream",
     "text": [
      "[1] Password:['engin33r'] is Medium\n"
     ]
    }
   ],
   "source": [
    "pw_array = np.array([input(\"Type a password to check its strength:\")])\n",
    "vectorized_pw = vectorizer.transform(pw_array)\n",
    "user_pred = dtr.predict(vectorized_pw)\n",
    "\n",
    "for item in user_pred:\n",
    "    if item == 0:\n",
    "        print(user_pred, f\"Password:{pw_array} is Weak\")\n",
    "    elif item == 1:\n",
    "        print(user_pred, f\"Password:{pw_array} is Medium\")\n",
    "    elif item == 2:\n",
    "        print(user_pred, f\"Password:{pw_array} is Strong\")\n",
    "    else:\n",
    "        print(\"Error\")"
   ]
  }
 ],
 "metadata": {
  "kernelspec": {
   "display_name": "Python 3",
   "language": "python",
   "name": "python3"
  },
  "language_info": {
   "codemirror_mode": {
    "name": "ipython",
    "version": 3
   },
   "file_extension": ".py",
   "mimetype": "text/x-python",
   "name": "python",
   "nbconvert_exporter": "python",
   "pygments_lexer": "ipython3",
   "version": "3.11.5"
  }
 },
 "nbformat": 4,
 "nbformat_minor": 2
}
